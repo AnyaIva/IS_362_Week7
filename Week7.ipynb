{
 "cells": [
  {
   "cell_type": "code",
   "execution_count": 15,
   "id": "64d9017e",
   "metadata": {},
   "outputs": [],
   "source": [
    "import pandas as pd\n",
    "\n",
    "data = {\n",
    "    \"John\": [5, 3, 4, 5, 2, 4],\n",
    "    \"Camilla\": [5, 4, 4, 5, 3, None],\n",
    "    \"Regina\": [4, None, 3, 5, 4, 4],\n",
    "    \"Walter\": [4, 4, None, 4, 5, 3],\n",
    "    \"Sonia\": [None, 5, 4, 5, 4, 3],\n",
    "}\n",
    "\n",
    "df = pd.DataFrame(data, index=[\n",
    "    \"The Menu\",\n",
    "    \"Bullet Train\",\n",
    "    \"Avatar: The Way of Water\",\n",
    "    \"Glass Onion\",\n",
    "    \"M3GAN\",\n",
    "    \"The Whale\",\n",
    "])\n",
    "\n",
    "df.to_csv(\"movie_ratings.csv\")"
   ]
  },
  {
   "cell_type": "code",
   "execution_count": 16,
   "id": "84ce51d8",
   "metadata": {},
   "outputs": [
    {
     "name": "stdout",
     "output_type": "stream",
     "text": [
      "Average ratings by user:\n",
      "John       3.833333\n",
      "Camilla    4.200000\n",
      "Regina     4.000000\n",
      "Walter     4.000000\n",
      "Sonia      4.200000\n",
      "dtype: float64\n"
     ]
    }
   ],
   "source": [
    "df = pd.read_csv(\"movie_ratings.csv\", index_col=0)\n",
    "\n",
    "#average ratings for each user and each movie\n",
    "user_averages = df.mean(axis=0)\n",
    "movie_averages = df.mean(axis=1)\n",
    "\n",
    "print(\"Average ratings by user:\")\n",
    "print(user_averages)\n",
    "\n"
   ]
  },
  {
   "cell_type": "code",
   "execution_count": 17,
   "id": "a6952ad7",
   "metadata": {},
   "outputs": [
    {
     "name": "stdout",
     "output_type": "stream",
     "text": [
      "Average ratings by movie:\n",
      "The Menu                    4.50\n",
      "Bullet Train                4.00\n",
      "Avatar: The Way of Water    3.75\n",
      "Glass Onion                 4.80\n",
      "M3GAN                       3.60\n",
      "The Whale                   3.50\n",
      "dtype: float64\n"
     ]
    }
   ],
   "source": [
    "print(\"Average ratings by movie:\")\n",
    "print(movie_averages)\n"
   ]
  },
  {
   "cell_type": "code",
   "execution_count": 18,
   "id": "6b055933",
   "metadata": {},
   "outputs": [
    {
     "name": "stdout",
     "output_type": "stream",
     "text": [
      "Normalized average ratings by user:\n",
      "John       0.008538\n",
      "Camilla    0.257401\n",
      "Regina    -0.140393\n",
      "Walter    -0.458605\n",
      "Sonia      0.331351\n",
      "dtype: float64\n"
     ]
    }
   ],
   "source": [
    "# Normalized ratings for each user\n",
    "normalized_df = df.apply(lambda x: (x - x.mean()) / x.std(), axis=1)\n",
    "\n",
    "# Average normalized ratings for each user and each movie\n",
    "normalized_user_averages = normalized_df.mean(axis=0)\n",
    "normalized_movie_averages = normalized_df.mean(axis=1)\n",
    "\n",
    "print(\"Normalized average ratings by user:\")\n",
    "print(normalized_user_averages)\n",
    "\n"
   ]
  },
  {
   "cell_type": "code",
   "execution_count": 19,
   "id": "c4781a30",
   "metadata": {},
   "outputs": [
    {
     "name": "stdout",
     "output_type": "stream",
     "text": [
      "Normalized average ratings by movie:\n",
      "The Menu                    0.000000e+00\n",
      "Bullet Train                0.000000e+00\n",
      "Avatar: The Way of Water    0.000000e+00\n",
      "Glass Onion                 4.107825e-16\n",
      "M3GAN                      -7.771561e-17\n",
      "The Whale                   0.000000e+00\n",
      "dtype: float64\n"
     ]
    }
   ],
   "source": [
    "print(\"Normalized average ratings by movie:\")\n",
    "print(normalized_movie_averages)"
   ]
  },
  {
   "cell_type": "code",
   "execution_count": null,
   "id": "75d6b270",
   "metadata": {},
   "outputs": [],
   "source": []
  }
 ],
 "metadata": {
  "kernelspec": {
   "display_name": "Python 3",
   "language": "python",
   "name": "python3"
  },
  "language_info": {
   "codemirror_mode": {
    "name": "ipython",
    "version": 3
   },
   "file_extension": ".py",
   "mimetype": "text/x-python",
   "name": "python",
   "nbconvert_exporter": "python",
   "pygments_lexer": "ipython3",
   "version": "3.8.10"
  }
 },
 "nbformat": 4,
 "nbformat_minor": 5
}
